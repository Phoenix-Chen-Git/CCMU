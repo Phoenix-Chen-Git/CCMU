{
 "cells": [
  {
   "cell_type": "code",
   "execution_count": 1,
   "id": "3c5b371b-f86a-4081-a7ea-b849f73209cb",
   "metadata": {
    "execution": {
     "iopub.execute_input": "2025-04-17T13:55:31.290431Z",
     "iopub.status.busy": "2025-04-17T13:55:31.290068Z",
     "iopub.status.idle": "2025-04-17T13:55:31.767393Z",
     "shell.execute_reply": "2025-04-17T13:55:31.765985Z",
     "shell.execute_reply.started": "2025-04-17T13:55:31.290401Z"
    }
   },
   "outputs": [
    {
     "name": "stdout",
     "output_type": "stream",
     "text": [
      "HTTP/2 200 \n",
      "\u001b[1mcontent-type\u001b[0m: text/html; charset=ISO-8859-1\n",
      "\u001b[1mcontent-security-policy-report-only\u001b[0m: object-src 'none';base-uri 'self';script-src 'nonce-ClNiUCoYkzDhnJXTw4pkYA' 'strict-dynamic' 'report-sample' 'unsafe-eval' 'unsafe-inline' https: http:;report-uri https://csp.withgoogle.com/csp/gws/other-hp\n",
      "\u001b[1maccept-ch\u001b[0m: Sec-CH-Prefers-Color-Scheme\n",
      "\u001b[1mp3p\u001b[0m: CP=\"This is not a P3P policy! See g.co/p3phelp for more info.\"\n",
      "\u001b[1mdate\u001b[0m: Thu, 17 Apr 2025 13:55:31 GMT\n",
      "\u001b[1mserver\u001b[0m: gws\n",
      "\u001b[1mx-xss-protection\u001b[0m: 0\n",
      "\u001b[1mx-frame-options\u001b[0m: SAMEORIGIN\n",
      "\u001b[1mexpires\u001b[0m: Thu, 17 Apr 2025 13:55:31 GMT\n",
      "\u001b[1mcache-control\u001b[0m: private\n",
      "\u001b[1mset-cookie\u001b[0m: AEC=AVcja2cW54R-PXB6wZficpfCenABmVolhLhANZsPfQQo71G_XQ6lJ35GUA; expires=Tue, 14-Oct-2025 13:55:31 GMT; path=/; domain=.google.com; Secure; HttpOnly; SameSite=lax\n",
      "\u001b[1mset-cookie\u001b[0m: NID=523=MYpSX-bJz6peOhAxvGNbAcVBzxyeNAnxMzRKkvi3zHMokj3lVcUWlibMJS6EWTRN_Mfc27vj4IUkD2uWdmTLFV90n-wAFaI5vGOGmdrk8tZ1BX-0LgejDruabug1NZYsHo1gts7NjJSE91TxRFSuUjZlPcp0a64wPB56aebM72q_rwbsrJiFn5POylCI6E_lYaIJcNJwv2BNwXPN2-9q; expires=Fri, 17-Oct-2025 13:55:31 GMT; path=/; domain=.google.com; HttpOnly\n",
      "\u001b[1malt-svc\u001b[0m: h3=\":443\"; ma=2592000,h3-29=\":443\"; ma=2592000\n",
      "\n"
     ]
    }
   ],
   "source": [
    "!curl -I https://www.google.com\n"
   ]
  },
  {
   "cell_type": "code",
   "execution_count": 2,
   "id": "8d04f301-e304-4c54-b156-1dc7572619fc",
   "metadata": {
    "execution": {
     "iopub.execute_input": "2025-04-17T13:57:03.569029Z",
     "iopub.status.busy": "2025-04-17T13:57:03.568156Z",
     "iopub.status.idle": "2025-04-17T13:58:09.347084Z",
     "shell.execute_reply": "2025-04-17T13:58:09.345989Z",
     "shell.execute_reply.started": "2025-04-17T13:57:03.568950Z"
    }
   },
   "outputs": [
    {
     "name": "stdout",
     "output_type": "stream",
     "text": [
      "--2025-04-17 13:57:03--  http://hgdownload.cse.ucsc.edu/goldenPath/hg19/bigZips/hg19.fa.gz\n",
      "Resolving hgdownload.cse.ucsc.edu (hgdownload.cse.ucsc.edu)... 128.114.119.163\n",
      "Connecting to hgdownload.cse.ucsc.edu (hgdownload.cse.ucsc.edu)|128.114.119.163|:80... connected.\n",
      "HTTP request sent, awaiting response... 200 OK\n",
      "Length: 948731419 (905M) [application/x-gzip]\n",
      "Saving to: ‘hg19.fa.gz’\n",
      "\n",
      "hg19.fa.gz          100%[===================>] 904.78M  37.9MB/s    in 25s     \n",
      "\n",
      "2025-04-17 13:57:29 (36.4 MB/s) - ‘hg19.fa.gz’ saved [948731419/948731419]\n",
      "\n"
     ]
    }
   ],
   "source": [
    "!wget -c http://hgdownload.cse.ucsc.edu/goldenPath/hg19/bigZips/hg19.fa.gz\n",
    "!gunzip -c hg19.fa.gz > hg19.fa\n"
   ]
  },
  {
   "cell_type": "code",
   "execution_count": 4,
   "id": "ea95cac0-1f7b-4cf0-801f-266d76f51b0d",
   "metadata": {
    "execution": {
     "iopub.execute_input": "2025-04-17T14:28:38.560932Z",
     "iopub.status.busy": "2025-04-17T14:28:38.560567Z",
     "iopub.status.idle": "2025-04-17T14:28:38.764367Z",
     "shell.execute_reply": "2025-04-17T14:28:38.763412Z",
     "shell.execute_reply.started": "2025-04-17T14:28:38.560899Z"
    }
   },
   "outputs": [
    {
     "name": "stdout",
     "output_type": "stream",
     "text": [
      "total 3.9G\n",
      "-rw-r--r-- 1 sagemaker-user users 7.9K Apr 17 13:54 README.md\n",
      "-rw-r--r-- 1 sagemaker-user users 4.1K Apr 17 13:59 Untitled.ipynb\n",
      "-rw-r--r-- 1 sagemaker-user users  77K Apr 17 13:54 getting_started.ipynb\n",
      "-rw-r--r-- 1 sagemaker-user users 3.0G Apr 17 13:58 hg19.fa\n",
      "-rw-r--r-- 1 sagemaker-user users 905M Aug 21  2018 hg19.fa.gz\n"
     ]
    }
   ],
   "source": [
    "!ls -lh"
   ]
  },
  {
   "cell_type": "code",
   "execution_count": 5,
   "id": "a35e5a84-2bf6-457c-8c7a-5c2416e03710",
   "metadata": {
    "execution": {
     "iopub.execute_input": "2025-04-17T14:29:11.011295Z",
     "iopub.status.busy": "2025-04-17T14:29:11.010873Z",
     "iopub.status.idle": "2025-04-17T14:29:11.040222Z",
     "shell.execute_reply": "2025-04-17T14:29:11.039462Z",
     "shell.execute_reply.started": "2025-04-17T14:29:11.011262Z"
    }
   },
   "outputs": [
    {
     "name": "stdout",
     "output_type": "stream",
     "text": [
      "FASTA file 'example.fasta' has been generated.\n",
      "Results written to example.fasta.csv\n"
     ]
    }
   ],
   "source": [
    "import re\n",
    "import csv\n",
    "\n",
    "# Write a sample FASTA file using Python code.\n",
    "def generate_example_fasta(filename=\"example.fasta\"):\n",
    "    fasta_content = (\n",
    "        \">seq1\\n\"\n",
    "        \"CCAAAAAAATAAAAAAAAAAAAGG\\n\"\n",
    "        \">seq2\\n\"\n",
    "        \"CTTTTTTTTATTTTTTTTTTTTAG\\n\"\n",
    "    )\n",
    "    with open(filename, \"w\") as f:\n",
    "        f.write(fasta_content)\n",
    "    print(f\"FASTA file '{filename}' has been generated.\")\n",
    "\n",
    "def reverse_complement(seq):\n",
    "    \"\"\"Return the reverse complement of a DNA sequence.\"\"\"\n",
    "    complement = str.maketrans(\"ACGTacgt\", \"TGCAtgca\")\n",
    "    return seq.translate(complement)[::-1]\n",
    "\n",
    "def parse_fasta(fasta_file):\n",
    "    \"\"\"A simple FASTA parser. Returns a dict {header: sequence}.\"\"\"\n",
    "    sequences = {}\n",
    "    header = None\n",
    "    seq_lines = []\n",
    "    with open(fasta_file, 'r') as f:\n",
    "        for line in f:\n",
    "            line = line.strip()\n",
    "            if not line:\n",
    "                continue\n",
    "            if line.startswith(\">\"):\n",
    "                if header:\n",
    "                    sequences[header] = \"\".join(seq_lines)\n",
    "                header = line[1:].split()[0]\n",
    "                seq_lines = []\n",
    "            else:\n",
    "                seq_lines.append(line)\n",
    "        if header:\n",
    "            sequences[header] = \"\".join(seq_lines)\n",
    "    return sequences\n",
    "\n",
    "def find_sgrna_binding_sites(fasta_file):\n",
    "    pattern = re.compile(r'(?=(([ACGT]{20}[ACGT](GG|AG))))', re.IGNORECASE)\n",
    "\n",
    "    results = []\n",
    "    sequences = parse_fasta(fasta_file)\n",
    "\n",
    "    for seq_id, seq in sequences.items():\n",
    "        seq = seq.upper()\n",
    "\n",
    "        # Positive strand\n",
    "        for match in re.finditer(pattern, seq):\n",
    "            start = match.start()\n",
    "            end = start + 23\n",
    "            results.append({\n",
    "                \"seq_id\": seq_id,\n",
    "                \"strand\": \"+\",\n",
    "                \"start\": start+1,\n",
    "                \"end\": end,\n",
    "                \"target\": seq[start:end]\n",
    "            })\n",
    "\n",
    "        # Negative strand\n",
    "        rc_seq = reverse_complement(seq)\n",
    "        for match in re.finditer(pattern, rc_seq):\n",
    "            rc_start = match.start()\n",
    "            rc_end = rc_start + 23\n",
    "            orig_end = len(seq) - rc_start\n",
    "            orig_start = len(seq) - rc_end\n",
    "            results.append({\n",
    "                \"seq_id\": seq_id,\n",
    "                \"strand\": \"-\",\n",
    "                \"start\": orig_start+1,\n",
    "                \"end\": orig_end,\n",
    "                \"target\": rc_seq[rc_start:rc_end]\n",
    "            })\n",
    "\n",
    "    return results\n",
    "\n",
    "def export_to_csv(results, fasta_file):\n",
    "    output_file = fasta_file + \".csv\"\n",
    "    with open(output_file, \"w\", newline='') as csvfile:\n",
    "        fieldnames = [\"seq_id\", \"strand\", \"start\", \"end\", \"target\"]\n",
    "        writer = csv.DictWriter(csvfile, fieldnames=fieldnames)\n",
    "        writer.writeheader()\n",
    "        for entry in results:\n",
    "            writer.writerow(entry)\n",
    "    print(f\"Results written to {output_file}\")\n",
    "\n",
    "# Example usage\n",
    "fasta_file = \"example.fasta\"\n",
    "generate_example_fasta(fasta_file)\n",
    "sites = find_sgrna_binding_sites(fasta_file)\n",
    "export_to_csv(sites, fasta_file)\n"
   ]
  },
  {
   "cell_type": "code",
   "execution_count": 7,
   "id": "58da8440-73d3-411d-9e01-4e849722fe1a",
   "metadata": {
    "execution": {
     "iopub.execute_input": "2025-04-17T14:32:23.130873Z",
     "iopub.status.busy": "2025-04-17T14:32:23.130463Z",
     "iopub.status.idle": "2025-04-17T14:32:46.682042Z",
     "shell.execute_reply": "2025-04-17T14:32:46.681141Z",
     "shell.execute_reply.started": "2025-04-17T14:32:23.130837Z"
    }
   },
   "outputs": [
    {
     "name": "stdout",
     "output_type": "stream",
     "text": [
      ">chr1\n",
      ">chr2\n",
      ">chr3\n",
      ">chr4\n",
      ">chr5\n",
      ">chr6\n",
      ">chr7\n",
      ">chrX\n",
      ">chr8\n",
      ">chr9\n",
      ">chr10\n",
      ">chr11\n",
      ">chr12\n",
      ">chr13\n",
      ">chr14\n",
      ">chr15\n",
      ">chr16\n",
      ">chr17\n",
      ">chr18\n",
      ">chr20\n",
      ">chrY\n",
      ">chr19\n",
      ">chr22\n",
      ">chr21\n",
      ">chr6_ssto_hap7\n",
      ">chr6_mcf_hap5\n",
      ">chr6_cox_hap2\n",
      ">chr6_mann_hap4\n",
      ">chr6_apd_hap1\n",
      ">chr6_qbl_hap6\n",
      ">chr6_dbb_hap3\n",
      ">chr17_ctg5_hap1\n",
      ">chr4_ctg9_hap1\n",
      ">chr1_gl000192_random\n",
      ">chrUn_gl000225\n",
      ">chr4_gl000194_random\n",
      ">chr4_gl000193_random\n",
      ">chr9_gl000200_random\n",
      ">chrUn_gl000222\n",
      ">chrUn_gl000212\n",
      ">chr7_gl000195_random\n",
      ">chrUn_gl000223\n",
      ">chrUn_gl000224\n",
      ">chrUn_gl000219\n",
      ">chr17_gl000205_random\n",
      ">chrUn_gl000215\n",
      ">chrUn_gl000216\n",
      ">chrUn_gl000217\n",
      ">chr9_gl000199_random\n",
      ">chrUn_gl000211\n",
      ">chrUn_gl000213\n",
      ">chrUn_gl000220\n",
      ">chrUn_gl000218\n",
      ">chr19_gl000209_random\n",
      ">chrUn_gl000221\n",
      ">chrUn_gl000214\n",
      ">chrUn_gl000228\n",
      ">chrUn_gl000227\n",
      ">chr1_gl000191_random\n",
      ">chr19_gl000208_random\n",
      ">chr9_gl000198_random\n",
      ">chr17_gl000204_random\n",
      ">chrUn_gl000233\n",
      ">chrUn_gl000237\n",
      ">chrUn_gl000230\n",
      ">chrUn_gl000242\n",
      ">chrUn_gl000243\n",
      ">chrUn_gl000241\n",
      ">chrUn_gl000236\n",
      ">chrUn_gl000240\n",
      ">chr17_gl000206_random\n",
      ">chrUn_gl000232\n",
      ">chrUn_gl000234\n",
      ">chr11_gl000202_random\n",
      ">chrUn_gl000238\n",
      ">chrUn_gl000244\n",
      ">chrUn_gl000248\n",
      ">chr8_gl000196_random\n",
      ">chrUn_gl000249\n",
      ">chrUn_gl000246\n",
      ">chr17_gl000203_random\n",
      ">chr8_gl000197_random\n",
      ">chrUn_gl000245\n",
      ">chrUn_gl000247\n",
      ">chr9_gl000201_random\n",
      ">chrUn_gl000235\n",
      ">chrUn_gl000239\n",
      ">chr21_gl000210_random\n",
      ">chrUn_gl000231\n",
      ">chrUn_gl000229\n",
      ">chrM\n",
      ">chrUn_gl000226\n",
      ">chr18_gl000207_random\n"
     ]
    }
   ],
   "source": [
    "!grep \"^>\" hg19.fa\n"
   ]
  },
  {
   "cell_type": "code",
   "execution_count": 8,
   "id": "7bee782c-8f54-405b-b9f0-dfa28cb5d7d5",
   "metadata": {
    "execution": {
     "iopub.execute_input": "2025-04-17T14:34:21.727954Z",
     "iopub.status.busy": "2025-04-17T14:34:21.727333Z",
     "iopub.status.idle": "2025-04-17T14:34:21.740236Z",
     "shell.execute_reply": "2025-04-17T14:34:21.737876Z",
     "shell.execute_reply.started": "2025-04-17T14:34:21.727881Z"
    }
   },
   "outputs": [
    {
     "name": "stdout",
     "output_type": "stream",
     "text": [
      "Writing keep.txt\n"
     ]
    }
   ],
   "source": [
    "%%writefile keep.txt\n",
    "chr1\n",
    "chr2\n",
    "chr3\n",
    "chr4\n",
    "chr5\n",
    "chr6\n",
    "chr7\n",
    "chr8\n",
    "chr9\n",
    "chr10\n",
    "chr11\n",
    "chr12\n",
    "chr13\n",
    "chr14\n",
    "chr15\n",
    "chr16\n",
    "chr17\n",
    "chr18\n",
    "chr19\n",
    "chr20\n",
    "chr21\n",
    "chr22\n",
    "chrX\n"
   ]
  },
  {
   "cell_type": "code",
   "execution_count": 9,
   "id": "0e5e9760-d933-4bef-b0c9-732a8d7c88bc",
   "metadata": {
    "execution": {
     "iopub.execute_input": "2025-04-17T14:34:41.706382Z",
     "iopub.status.busy": "2025-04-17T14:34:41.706042Z",
     "iopub.status.idle": "2025-04-17T14:35:32.972642Z",
     "shell.execute_reply": "2025-04-17T14:35:32.966178Z",
     "shell.execute_reply.started": "2025-04-17T14:34:41.706358Z"
    }
   },
   "outputs": [
    {
     "name": "stdout",
     "output_type": "stream",
     "text": [
      "Reading package lists... Done\n",
      "Building dependency tree... Done\n",
      "Reading state information... Done\n",
      "The following NEW packages will be installed:\n",
      "  seqtk\n",
      "0 upgraded, 1 newly installed, 0 to remove and 0 not upgraded.\n",
      "Need to get 30.2 kB of archives.\n",
      "After this operation, 85.0 kB of additional disk space will be used.\n",
      "Get:1 http://archive.ubuntu.com/ubuntu jammy/universe amd64 seqtk amd64 1.3-2 [30.2 kB]\n",
      "Fetched 30.2 kB in 0s (313 kB/s) \n",
      "debconf: delaying package configuration, since apt-utils is not installed\n",
      "Selecting previously unselected package seqtk.\n",
      "(Reading database ... 14526 files and directories currently installed.)\n",
      "Preparing to unpack .../archives/seqtk_1.3-2_amd64.deb ...\n",
      "Unpacking seqtk (1.3-2) ...\n",
      "Setting up seqtk (1.3-2) ...\n"
     ]
    }
   ],
   "source": [
    "!sudo apt-get install -y seqtk\n",
    "!seqtk subseq hg19.fa keep.txt > hg19_main.fa\n"
   ]
  },
  {
   "cell_type": "code",
   "execution_count": 10,
   "id": "a6433ea6-856c-4bb8-a7fe-5866ac4db2a6",
   "metadata": {
    "execution": {
     "iopub.execute_input": "2025-04-17T14:36:03.410192Z",
     "iopub.status.busy": "2025-04-17T14:36:03.409704Z",
     "iopub.status.idle": "2025-04-17T14:36:25.846605Z",
     "shell.execute_reply": "2025-04-17T14:36:25.845684Z",
     "shell.execute_reply.started": "2025-04-17T14:36:03.410149Z"
    }
   },
   "outputs": [
    {
     "name": "stdout",
     "output_type": "stream",
     "text": [
      ">chr1\n",
      ">chr2\n",
      ">chr3\n",
      ">chr4\n",
      ">chr5\n",
      ">chr6\n",
      ">chr7\n",
      ">chrX\n",
      ">chr8\n",
      ">chr9\n",
      ">chr10\n",
      ">chr11\n",
      ">chr12\n",
      ">chr13\n",
      ">chr14\n",
      ">chr15\n",
      ">chr16\n",
      ">chr17\n",
      ">chr18\n",
      ">chr20\n",
      ">chr19\n",
      ">chr22\n",
      ">chr21\n"
     ]
    }
   ],
   "source": [
    "!grep \"^>\" hg19_main.fa"
   ]
  },
  {
   "cell_type": "code",
   "execution_count": 1,
   "id": "ab1d3f5f-1d19-48f5-bcff-98ecec5e1201",
   "metadata": {
    "execution": {
     "iopub.execute_input": "2025-05-05T08:43:31.334085Z",
     "iopub.status.busy": "2025-05-05T08:43:31.333798Z",
     "iopub.status.idle": "2025-05-05T09:55:55.032111Z",
     "shell.execute_reply": "2025-05-05T09:55:55.031525Z",
     "shell.execute_reply.started": "2025-05-05T08:43:31.334067Z"
    }
   },
   "outputs": [
    {
     "name": "stderr",
     "output_type": "stream",
     "text": [
      "Splitting FASTA: 100%|██████████| 23/23 [00:23<00:00,  1.00s/it]\n"
     ]
    },
    {
     "name": "stdout",
     "output_type": "stream",
     "text": [
      "Done. Files saved to split_by_seq\n"
     ]
    },
    {
     "name": "stderr",
     "output_type": "stream",
     "text": [
      "Processing FASTA files:   0%|          | 0/23 [00:00<?, ?it/s]"
     ]
    },
    {
     "name": "stdout",
     "output_type": "stream",
     "text": [
      "\n",
      "Processing: split_by_seq/chr1.fasta\n"
     ]
    },
    {
     "name": "stderr",
     "output_type": "stream",
     "text": [
      "Processing FASTA files:   4%|▍         | 1/23 [05:42<2:05:42, 342.85s/it]"
     ]
    },
    {
     "name": "stdout",
     "output_type": "stream",
     "text": [
      "Results written to split_by_seq/chr1.fasta.csv\n",
      "\n",
      "Processing: split_by_seq/chr2.fasta\n"
     ]
    },
    {
     "name": "stderr",
     "output_type": "stream",
     "text": [
      "Processing FASTA files:   9%|▊         | 2/23 [11:39<2:02:47, 350.83s/it]"
     ]
    },
    {
     "name": "stdout",
     "output_type": "stream",
     "text": [
      "Results written to split_by_seq/chr2.fasta.csv\n",
      "\n",
      "Processing: split_by_seq/chr3.fasta\n"
     ]
    },
    {
     "name": "stderr",
     "output_type": "stream",
     "text": [
      "Processing FASTA files:  13%|█▎        | 3/23 [16:29<1:47:43, 323.18s/it]"
     ]
    },
    {
     "name": "stdout",
     "output_type": "stream",
     "text": [
      "Results written to split_by_seq/chr3.fasta.csv\n",
      "\n",
      "Processing: split_by_seq/chr4.fasta\n"
     ]
    },
    {
     "name": "stderr",
     "output_type": "stream",
     "text": [
      "Processing FASTA files:  17%|█▋        | 4/23 [21:02<1:36:03, 303.34s/it]"
     ]
    },
    {
     "name": "stdout",
     "output_type": "stream",
     "text": [
      "Results written to split_by_seq/chr4.fasta.csv\n",
      "\n",
      "Processing: split_by_seq/chr5.fasta\n"
     ]
    },
    {
     "name": "stderr",
     "output_type": "stream",
     "text": [
      "Processing FASTA files:  22%|██▏       | 5/23 [25:25<1:26:36, 288.69s/it]"
     ]
    },
    {
     "name": "stdout",
     "output_type": "stream",
     "text": [
      "Results written to split_by_seq/chr5.fasta.csv\n",
      "\n",
      "Processing: split_by_seq/chr6.fasta\n"
     ]
    },
    {
     "name": "stderr",
     "output_type": "stream",
     "text": [
      "Processing FASTA files:  26%|██▌       | 6/23 [29:32<1:17:51, 274.78s/it]"
     ]
    },
    {
     "name": "stdout",
     "output_type": "stream",
     "text": [
      "Results written to split_by_seq/chr6.fasta.csv\n",
      "\n",
      "Processing: split_by_seq/chr7.fasta\n"
     ]
    },
    {
     "name": "stderr",
     "output_type": "stream",
     "text": [
      "Processing FASTA files:  30%|███       | 7/23 [33:26<1:09:41, 261.37s/it]"
     ]
    },
    {
     "name": "stdout",
     "output_type": "stream",
     "text": [
      "Results written to split_by_seq/chr7.fasta.csv\n",
      "\n",
      "Processing: split_by_seq/chrX.fasta\n"
     ]
    },
    {
     "name": "stderr",
     "output_type": "stream",
     "text": [
      "Processing FASTA files:  35%|███▍      | 8/23 [37:09<1:02:18, 249.24s/it]"
     ]
    },
    {
     "name": "stdout",
     "output_type": "stream",
     "text": [
      "Results written to split_by_seq/chrX.fasta.csv\n",
      "\n",
      "Processing: split_by_seq/chr8.fasta\n"
     ]
    },
    {
     "name": "stderr",
     "output_type": "stream",
     "text": [
      "Processing FASTA files:  39%|███▉      | 9/23 [40:42<55:30, 237.88s/it]  "
     ]
    },
    {
     "name": "stdout",
     "output_type": "stream",
     "text": [
      "Results written to split_by_seq/chr8.fasta.csv\n",
      "\n",
      "Processing: split_by_seq/chr9.fasta\n"
     ]
    },
    {
     "name": "stderr",
     "output_type": "stream",
     "text": [
      "Processing FASTA files:  43%|████▎     | 10/23 [43:47<47:57, 221.32s/it]"
     ]
    },
    {
     "name": "stdout",
     "output_type": "stream",
     "text": [
      "Results written to split_by_seq/chr9.fasta.csv\n",
      "\n",
      "Processing: split_by_seq/chr10.fasta\n"
     ]
    },
    {
     "name": "stderr",
     "output_type": "stream",
     "text": [
      "Processing FASTA files:  48%|████▊     | 11/23 [47:07<43:00, 215.02s/it]"
     ]
    },
    {
     "name": "stdout",
     "output_type": "stream",
     "text": [
      "Results written to split_by_seq/chr10.fasta.csv\n",
      "\n",
      "Processing: split_by_seq/chr11.fasta\n"
     ]
    },
    {
     "name": "stderr",
     "output_type": "stream",
     "text": [
      "Processing FASTA files:  52%|█████▏    | 12/23 [50:28<38:38, 210.79s/it]"
     ]
    },
    {
     "name": "stdout",
     "output_type": "stream",
     "text": [
      "Results written to split_by_seq/chr11.fasta.csv\n",
      "\n",
      "Processing: split_by_seq/chr12.fasta\n"
     ]
    },
    {
     "name": "stderr",
     "output_type": "stream",
     "text": [
      "Processing FASTA files:  57%|█████▋    | 13/23 [53:47<34:30, 207.02s/it]"
     ]
    },
    {
     "name": "stdout",
     "output_type": "stream",
     "text": [
      "Results written to split_by_seq/chr12.fasta.csv\n",
      "\n",
      "Processing: split_by_seq/chr13.fasta\n"
     ]
    },
    {
     "name": "stderr",
     "output_type": "stream",
     "text": [
      "Processing FASTA files:  61%|██████    | 14/23 [56:08<28:04, 187.12s/it]"
     ]
    },
    {
     "name": "stdout",
     "output_type": "stream",
     "text": [
      "Results written to split_by_seq/chr13.fasta.csv\n",
      "\n",
      "Processing: split_by_seq/chr14.fasta\n"
     ]
    },
    {
     "name": "stderr",
     "output_type": "stream",
     "text": [
      "Processing FASTA files:  65%|██████▌   | 15/23 [58:23<22:51, 171.46s/it]"
     ]
    },
    {
     "name": "stdout",
     "output_type": "stream",
     "text": [
      "Results written to split_by_seq/chr14.fasta.csv\n",
      "\n",
      "Processing: split_by_seq/chr15.fasta\n"
     ]
    },
    {
     "name": "stderr",
     "output_type": "stream",
     "text": [
      "Processing FASTA files:  70%|██████▉   | 16/23 [1:00:31<18:28, 158.32s/it]"
     ]
    },
    {
     "name": "stdout",
     "output_type": "stream",
     "text": [
      "Results written to split_by_seq/chr15.fasta.csv\n",
      "\n",
      "Processing: split_by_seq/chr16.fasta\n"
     ]
    },
    {
     "name": "stderr",
     "output_type": "stream",
     "text": [
      "Processing FASTA files:  74%|███████▍  | 17/23 [1:02:38<14:53, 148.84s/it]"
     ]
    },
    {
     "name": "stdout",
     "output_type": "stream",
     "text": [
      "Results written to split_by_seq/chr16.fasta.csv\n",
      "\n",
      "Processing: split_by_seq/chr17.fasta\n"
     ]
    },
    {
     "name": "stderr",
     "output_type": "stream",
     "text": [
      "Processing FASTA files:  78%|███████▊  | 18/23 [1:04:44<11:50, 142.06s/it]"
     ]
    },
    {
     "name": "stdout",
     "output_type": "stream",
     "text": [
      "Results written to split_by_seq/chr17.fasta.csv\n",
      "\n",
      "Processing: split_by_seq/chr18.fasta\n"
     ]
    },
    {
     "name": "stderr",
     "output_type": "stream",
     "text": [
      "Processing FASTA files:  83%|████████▎ | 19/23 [1:06:35<08:50, 132.70s/it]"
     ]
    },
    {
     "name": "stdout",
     "output_type": "stream",
     "text": [
      "Results written to split_by_seq/chr18.fasta.csv\n",
      "\n",
      "Processing: split_by_seq/chr20.fasta\n"
     ]
    },
    {
     "name": "stderr",
     "output_type": "stream",
     "text": [
      "Processing FASTA files:  87%|████████▋ | 20/23 [1:08:10<06:03, 121.33s/it]"
     ]
    },
    {
     "name": "stdout",
     "output_type": "stream",
     "text": [
      "Results written to split_by_seq/chr20.fasta.csv\n",
      "\n",
      "Processing: split_by_seq/chr19.fasta\n"
     ]
    },
    {
     "name": "stderr",
     "output_type": "stream",
     "text": [
      "Processing FASTA files:  91%|█████████▏| 21/23 [1:09:44<03:46, 113.09s/it]"
     ]
    },
    {
     "name": "stdout",
     "output_type": "stream",
     "text": [
      "Results written to split_by_seq/chr19.fasta.csv\n",
      "\n",
      "Processing: split_by_seq/chr22.fasta\n"
     ]
    },
    {
     "name": "stderr",
     "output_type": "stream",
     "text": [
      "Processing FASTA files:  96%|█████████▌| 22/23 [1:10:44<01:37, 97.25s/it] "
     ]
    },
    {
     "name": "stdout",
     "output_type": "stream",
     "text": [
      "Results written to split_by_seq/chr22.fasta.csv\n",
      "\n",
      "Processing: split_by_seq/chr21.fasta\n"
     ]
    },
    {
     "name": "stderr",
     "output_type": "stream",
     "text": [
      "Processing FASTA files: 100%|██████████| 23/23 [1:11:38<00:00, 186.88s/it]"
     ]
    },
    {
     "name": "stdout",
     "output_type": "stream",
     "text": [
      "Results written to split_by_seq/chr21.fasta.csv\n",
      "ls: cannot access '/content/split_by_seq/*.csv': No such file or directory\n"
     ]
    },
    {
     "name": "stderr",
     "output_type": "stream",
     "text": [
      "\n"
     ]
    }
   ],
   "source": [
    "import re\n",
    "import csv\n",
    "\n",
    "def reverse_complement(seq):\n",
    "    \"\"\"Return the reverse complement of a DNA sequence.\"\"\"\n",
    "    complement = str.maketrans(\"ACGTacgt\", \"TGCAtgca\")\n",
    "    return seq.translate(complement)[::-1]\n",
    "\n",
    "def parse_fasta(fasta_file):\n",
    "    \"\"\"A simple FASTA parser. Returns a dict {header: sequence}.\"\"\"\n",
    "    sequences = {}\n",
    "    header = None\n",
    "    seq_lines = []\n",
    "    with open(fasta_file, 'r') as f:\n",
    "        for line in f:\n",
    "            line = line.strip()\n",
    "            if not line:\n",
    "                continue\n",
    "            if line.startswith(\">\"):\n",
    "                if header:\n",
    "                    sequences[header] = \"\".join(seq_lines)\n",
    "                header = line[1:].split()[0]\n",
    "                seq_lines = []\n",
    "            else:\n",
    "                seq_lines.append(line)\n",
    "        if header:\n",
    "            sequences[header] = \"\".join(seq_lines)\n",
    "    return sequences\n",
    "\n",
    "def find_sgrna_binding_sites(fasta_file):\n",
    "    pattern = re.compile(r'(?=(([ACGT]{20}[ACGT](GG|AG))))', re.IGNORECASE)\n",
    "\n",
    "    results = []\n",
    "    sequences = parse_fasta(fasta_file)\n",
    "\n",
    "    for seq_id, seq in sequences.items():\n",
    "        seq = seq.upper()\n",
    "\n",
    "        # Positive strand\n",
    "        for match in re.finditer(pattern, seq):\n",
    "            start = match.start()\n",
    "            end = start + 23\n",
    "            results.append({\n",
    "                \"seq_id\": seq_id,\n",
    "                \"strand\": \"+\",\n",
    "                \"start\": start+1,\n",
    "                \"end\": end,\n",
    "                \"target\": seq[start:end]\n",
    "            })\n",
    "\n",
    "        # Negative strand\n",
    "        rc_seq = reverse_complement(seq)\n",
    "        for match in re.finditer(pattern, rc_seq):\n",
    "            rc_start = match.start()\n",
    "            rc_end = rc_start + 23\n",
    "            orig_end = len(seq) - rc_start\n",
    "            orig_start = len(seq) - rc_end\n",
    "            results.append({\n",
    "                \"seq_id\": seq_id,\n",
    "                \"strand\": \"-\",\n",
    "                \"start\": orig_start+1,\n",
    "                \"end\": orig_end,\n",
    "                \"target\": rc_seq[rc_start:rc_end]\n",
    "            })\n",
    "\n",
    "    return results\n",
    "\n",
    "def export_to_csv(results, fasta_file):\n",
    "    output_file = fasta_file + \".csv\"\n",
    "    with open(output_file, \"w\", newline='') as csvfile:\n",
    "        fieldnames = [\"seq_id\", \"strand\", \"start\", \"end\", \"target\"]\n",
    "        writer = csv.DictWriter(csvfile, fieldnames=fieldnames)\n",
    "        writer.writeheader()\n",
    "        for entry in results:\n",
    "            writer.writerow(entry)\n",
    "    print(f\"Results written to {output_file}\")\n",
    "#################################################################################\n",
    "import os\n",
    "from pathlib import Path\n",
    "from tqdm import tqdm\n",
    "\n",
    "# Setup input/output paths\n",
    "\n",
    "output_dir = \"split_by_seq\"\n",
    "os.makedirs(output_dir, exist_ok=True)\n",
    "\n",
    "# Count total sequences to initialize progress bar\n",
    "with open('hg19_main.fa', 'r') as f:\n",
    "    total_seqs = sum(1 for line in f if line.startswith('>'))\n",
    "\n",
    "# Initialize variables\n",
    "current_header = None\n",
    "current_seq = []\n",
    "input_path = 'hg19_main.fa'\n",
    "# Process and split into separate files with progress bar\n",
    "with open(input_path, 'r') as f, tqdm(total=total_seqs, desc=\"Splitting FASTA\") as pbar:\n",
    "    for line in f:\n",
    "        line = line.strip()\n",
    "        if line.startswith('>'):  # header line\n",
    "            if current_header:\n",
    "                # Save previous sequence\n",
    "                filename = current_header[1:].split()[0]  # clean filename\n",
    "                output_path = os.path.join(output_dir, f\"{filename}.fasta\")\n",
    "                with open(output_path, 'w') as out_f:\n",
    "                    out_f.write(current_header + \"\\n\")\n",
    "                    out_f.write(\"\".join(current_seq) + \"\\n\")\n",
    "                pbar.update(1)\n",
    "            current_header = line\n",
    "            current_seq = []\n",
    "        else:\n",
    "            current_seq.append(line)\n",
    "\n",
    "    # Save last sequence\n",
    "    if current_header:\n",
    "        filename = current_header[1:].split()[0]\n",
    "        output_path = os.path.join(output_dir, f\"{filename}.fasta\")\n",
    "        with open(output_path, 'w') as out_f:\n",
    "            out_f.write(current_header + \"\\n\")\n",
    "            out_f.write(\"\".join(current_seq) + \"\\n\")\n",
    "        pbar.update(1)\n",
    "\n",
    "print(f\"Done. Files saved to {output_dir}\")\n",
    "import os\n",
    "from glob import glob\n",
    "from tqdm import tqdm  # Progress bar\n",
    "\n",
    "# Change this path to where your FASTA files are stored\n",
    "fasta_dir = \"split_by_seq/\"\n",
    "fasta_files = glob(os.path.join(fasta_dir, \"*.fasta\"))\n",
    "\n",
    "# Create output directory\n",
    "os.makedirs(\"output_csvs\", exist_ok=True)\n",
    "\n",
    "# Process all FASTA files with a progress bar\n",
    "for fasta_file in tqdm(fasta_files, desc=\"Processing FASTA files\"):\n",
    "    print(f\"\\nProcessing: {fasta_file}\")\n",
    "    sites = find_sgrna_binding_sites(fasta_file)\n",
    "    export_to_csv(sites, fasta_file)\n",
    "!ls -lh /content/split_by_seq/*.csv"
   ]
  },
  {
   "cell_type": "code",
   "execution_count": 4,
   "id": "51c94ae4-268a-469e-8f8f-1b72750677ad",
   "metadata": {
    "execution": {
     "iopub.execute_input": "2025-05-06T09:41:18.904714Z",
     "iopub.status.busy": "2025-05-06T09:41:18.904350Z",
     "iopub.status.idle": "2025-05-06T09:41:19.056661Z",
     "shell.execute_reply": "2025-05-06T09:41:19.055961Z",
     "shell.execute_reply.started": "2025-05-06T09:41:18.904688Z"
    }
   },
   "outputs": [
    {
     "name": "stdout",
     "output_type": "stream",
     "text": [
      "-rw-r--r-- 1 sagemaker-user users  2.7G May  5 08:49 split_by_seq/chr1.fasta.csv\n",
      "-rw-r--r-- 1 sagemaker-user users  1.6G May  5 09:31 split_by_seq/chr10.fasta.csv\n",
      "-rw-r--r-- 1 sagemaker-user users  1.6G May  5 09:34 split_by_seq/chr11.fasta.csv\n",
      "-rw-r--r-- 1 sagemaker-user users  1.6G May  5 09:38 split_by_seq/chr12.fasta.csv\n",
      "-rw-r--r-- 1 sagemaker-user users  1.1G May  5 09:40 split_by_seq/chr13.fasta.csv\n",
      "-rw-r--r-- 1 sagemaker-user users  1.1G May  5 09:42 split_by_seq/chr14.fasta.csv\n",
      "-rw-r--r-- 1 sagemaker-user users 1011M May  5 09:44 split_by_seq/chr15.fasta.csv\n",
      "-rw-r--r-- 1 sagemaker-user users  1.1G May  5 09:46 split_by_seq/chr16.fasta.csv\n",
      "-rw-r--r-- 1 sagemaker-user users  1.1G May  5 09:49 split_by_seq/chr17.fasta.csv\n",
      "-rw-r--r-- 1 sagemaker-user users  850M May  5 09:50 split_by_seq/chr18.fasta.csv\n",
      "-rw-r--r-- 1 sagemaker-user users  792M May  5 09:54 split_by_seq/chr19.fasta.csv\n",
      "-rw-r--r-- 1 sagemaker-user users  2.8G May  5 08:55 split_by_seq/chr2.fasta.csv\n",
      "-rw-r--r-- 1 sagemaker-user users  767M May  5 09:52 split_by_seq/chr20.fasta.csv\n",
      "-rw-r--r-- 1 sagemaker-user users  412M May  5 09:55 split_by_seq/chr21.fasta.csv\n",
      "-rw-r--r-- 1 sagemaker-user users  497M May  5 09:55 split_by_seq/chr22.fasta.csv\n",
      "-rw-r--r-- 1 sagemaker-user users  2.2G May  5 09:00 split_by_seq/chr3.fasta.csv\n",
      "-rw-r--r-- 1 sagemaker-user users  2.0G May  5 09:05 split_by_seq/chr4.fasta.csv\n",
      "-rw-r--r-- 1 sagemaker-user users  2.0G May  5 09:09 split_by_seq/chr5.fasta.csv\n",
      "-rw-r--r-- 1 sagemaker-user users  1.9G May  5 09:13 split_by_seq/chr6.fasta.csv\n",
      "-rw-r--r-- 1 sagemaker-user users  1.8G May  5 09:17 split_by_seq/chr7.fasta.csv\n",
      "-rw-r--r-- 1 sagemaker-user users  1.7G May  5 09:24 split_by_seq/chr8.fasta.csv\n",
      "-rw-r--r-- 1 sagemaker-user users  1.4G May  5 09:28 split_by_seq/chr9.fasta.csv\n",
      "-rw-r--r-- 1 sagemaker-user users  1.7G May  5 09:21 split_by_seq/chrX.fasta.csv\n"
     ]
    }
   ],
   "source": [
    "!ls -lh split_by_seq/*.csv"
   ]
  },
  {
   "cell_type": "code",
   "execution_count": 8,
   "id": "d8f78a68-8fb2-489f-876f-8195f813d35a",
   "metadata": {
    "execution": {
     "iopub.execute_input": "2025-05-06T09:42:48.927239Z",
     "iopub.status.busy": "2025-05-06T09:42:48.926885Z",
     "iopub.status.idle": "2025-05-06T09:42:49.224539Z",
     "shell.execute_reply": "2025-05-06T09:42:49.223815Z",
     "shell.execute_reply.started": "2025-05-06T09:42:48.927215Z"
    }
   },
   "outputs": [
    {
     "name": "stdout",
     "output_type": "stream",
     "text": [
      "seq_id,strand,start,end,target\n",
      "chr1,+,10451,10473,AACCCTAACCCTAACCCTCGCGG\n",
      "chr1,+,10460,10482,CCTAACCCTCGCGGTACCCTCAG\n",
      "chr1,+,10464,10486,ACCCTCGCGGTACCCTCAGCCGG\n",
      "chr1,+,10477,10499,CCTCAGCCGGCCCGCCCGCCCGG\n",
      "chr1,+,10478,10500,CTCAGCCGGCCCGCCCGCCCGGG\n",
      "chr1,+,10489,10511,CGCCCGCCCGGGTCTGACCTGAG\n",
      "chr1,+,10490,10512,GCCCGCCCGGGTCTGACCTGAGG\n",
      "chr1,+,10492,10514,CCGCCCGGGTCTGACCTGAGGAG\n",
      "chr1,+,10511,10533,GGAGAACTGTGCTCCGCCTTCAG\n",
      "chr1,-,10022,10044,TAGGGTTAGGGTTAGGGTTAGGG\n",
      "chr1,-,10018,10040,GTTAGGGTTAGGGTTAGGGTTAG\n",
      "chr1,-,10017,10039,TTAGGGTTAGGGTTAGGGTTAGG\n",
      "chr1,-,10016,10038,TAGGGTTAGGGTTAGGGTTAGGG\n",
      "chr1,-,10012,10034,GTTAGGGTTAGGGTTAGGGTTAG\n",
      "chr1,-,10011,10033,TTAGGGTTAGGGTTAGGGTTAGG\n",
      "chr1,-,10010,10032,TAGGGTTAGGGTTAGGGTTAGGG\n",
      "chr1,-,10006,10028,GTTAGGGTTAGGGTTAGGGTTAG\n",
      "chr1,-,10005,10027,TTAGGGTTAGGGTTAGGGTTAGG\n",
      "chr1,-,10004,10026,TAGGGTTAGGGTTAGGGTTAGGG\n"
     ]
    }
   ],
   "source": [
    "!head split_by_seq/chr1.fasta.csv -n 10\n",
    "!tail split_by_seq/chr1.fasta.csv -n 10"
   ]
  },
  {
   "cell_type": "code",
   "execution_count": null,
   "id": "89d5cf92-fc53-4e24-a1d4-20b276ec5456",
   "metadata": {},
   "outputs": [],
   "source": []
  }
 ],
 "metadata": {
  "kernelspec": {
   "display_name": "Python 3 (ipykernel)",
   "language": "python",
   "name": "python3"
  },
  "language_info": {
   "codemirror_mode": {
    "name": "ipython",
    "version": 3
   },
   "file_extension": ".py",
   "mimetype": "text/x-python",
   "name": "python",
   "nbconvert_exporter": "python",
   "pygments_lexer": "ipython3",
   "version": "3.12.7"
  }
 },
 "nbformat": 4,
 "nbformat_minor": 5
}
