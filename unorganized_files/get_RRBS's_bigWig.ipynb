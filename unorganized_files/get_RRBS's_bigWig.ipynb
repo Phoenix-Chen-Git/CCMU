{
 "cells": [
  {
   "cell_type": "code",
   "execution_count": null,
   "id": "70192ac1-c745-42f1-bf8f-ba806e015f45",
   "metadata": {
    "collapsed": true,
    "execution": {
     "iopub.execute_input": "2025-04-18T08:10:24.292107Z",
     "iopub.status.busy": "2025-04-18T08:10:24.291658Z",
     "iopub.status.idle": "2025-04-18T08:11:43.768995Z",
     "shell.execute_reply": "2025-04-18T08:11:43.768114Z",
     "shell.execute_reply.started": "2025-04-18T08:10:24.292077Z"
    },
    "jupyter": {
     "outputs_hidden": true
    },
    "scrolled": true
   },
   "outputs": [],
   "source": [
    "!wget -c https://www.encodeproject.org/files/ENCFF000MBM/@@download/ENCFF000MBM.fastq.gz -O ENCFF000MBM.fastq.gz\n",
    "!wget -c https://www.encodeproject.org/files/ENCFF000MBV/@@download/ENCFF000MBV.fastq.gz -O ENCFF000MBV.fastq.gz\n"
   ]
  },
  {
   "cell_type": "code",
   "execution_count": null,
   "id": "7194eb2f-ec72-4112-88b5-ef7aa412eee7",
   "metadata": {
    "execution": {
     "iopub.execute_input": "2025-04-24T13:49:36.066348Z",
     "iopub.status.busy": "2025-04-24T13:49:36.065994Z",
     "iopub.status.idle": "2025-04-24T13:50:11.512096Z",
     "shell.execute_reply": "2025-04-24T13:50:11.511550Z",
     "shell.execute_reply.started": "2025-04-24T13:49:36.066327Z"
    },
    "scrolled": true
   },
   "outputs": [],
   "source": [
    "!conda create -y -n rrbs-env -c bioconda fastqc trim-galore cutadapt bowtie2 bismark samtools\n"
   ]
  },
  {
   "cell_type": "code",
   "execution_count": null,
   "id": "9579a045-f4c9-496c-a73a-d2e2f89cfa8f",
   "metadata": {
    "execution": {
     "iopub.execute_input": "2025-04-21T07:21:56.528955Z",
     "iopub.status.busy": "2025-04-21T07:21:56.528361Z",
     "iopub.status.idle": "2025-04-21T07:21:57.732248Z",
     "shell.execute_reply": "2025-04-21T07:21:57.731684Z",
     "shell.execute_reply.started": "2025-04-21T07:21:56.528930Z"
    },
    "scrolled": true
   },
   "outputs": [],
   "source": [
    "# FastQC (Java tool)\n",
    "!/home/sagemaker-user/.conda/envs/rrbs-env/opt/fastqc-0.12.1/fastqc --version\n",
    "\n",
    "# Cutadapt (Python, needed by Trim Galore)\n",
    "!/home/sagemaker-user/.conda/envs/rrbs-env/bin/cutadapt --version\n",
    "\n",
    "# Trim Galore (Perl wrapper)\n",
    "!/home/sagemaker-user/.conda/envs/rrbs-env/bin/trim_galore --version\n",
    "\n",
    "# Bowtie2 (Aligner)\n",
    "!/home/sagemaker-user/.conda/envs/rrbs-env/bin/bowtie2 --version\n",
    "\n",
    "# Bismark (Bisulfite aligner)\n",
    "!/home/sagemaker-user/.conda/envs/rrbs-env/bin/bismark --version\n",
    "\n",
    "# Samtools (for BAM handling)\n",
    "!/home/sagemaker-user/.conda/envs/rrbs-env/bin/samtools --version\n"
   ]
  },
  {
   "cell_type": "code",
   "execution_count": null,
   "id": "39dd561f-a14f-49c7-8bf9-b16b8fe6205a",
   "metadata": {
    "execution": {
     "iopub.execute_input": "2025-04-18T09:47:32.966545Z",
     "iopub.status.busy": "2025-04-18T09:47:32.965950Z",
     "iopub.status.idle": "2025-04-18T10:03:38.062004Z",
     "shell.execute_reply": "2025-04-18T10:03:38.061006Z",
     "shell.execute_reply.started": "2025-04-18T09:47:32.966520Z"
    },
    "scrolled": true
   },
   "outputs": [],
   "source": [
    "!/home/sagemaker-user/.conda/envs/rrbs-env/bin/trim_galore \\\n",
    "  --rrbs \\\n",
    "  --quality 20 \\\n",
    "  --cores 8 \\\n",
    "  --path_to_cutadapt /home/sagemaker-user/.conda/envs/rrbs-env/bin/cutadapt \\\n",
    "  ENCFF000MBM.fastq.gz\n",
    "\n",
    "!/home/sagemaker-user/.conda/envs/rrbs-env/bin/trim_galore \\\n",
    "  --rrbs \\\n",
    "  --quality 20 \\\n",
    "  --cores 8 \\\n",
    "  --path_to_cutadapt /home/sagemaker-user/.conda/envs/rrbs-env/bin/cutadapt \\\n",
    "  ENCFF000MBV.fastq.gz\n"
   ]
  },
  {
   "cell_type": "code",
   "execution_count": null,
   "id": "7205adbf-aff4-419f-85ec-9b4aa6c296d7",
   "metadata": {
    "execution": {
     "iopub.execute_input": "2025-04-18T11:59:39.012609Z",
     "iopub.status.busy": "2025-04-18T11:59:39.011997Z",
     "iopub.status.idle": "2025-04-18T11:59:39.168790Z",
     "shell.execute_reply": "2025-04-18T11:59:39.167765Z",
     "shell.execute_reply.started": "2025-04-18T11:59:39.012570Z"
    }
   },
   "outputs": [],
   "source": [
    "!ls *.txt"
   ]
  },
  {
   "cell_type": "code",
   "execution_count": null,
   "id": "57a10cc4-a0b3-420b-a9d8-5ff0b699f8b9",
   "metadata": {
    "execution": {
     "iopub.execute_input": "2025-04-18T11:59:56.464607Z",
     "iopub.status.busy": "2025-04-18T11:59:56.464189Z",
     "iopub.status.idle": "2025-04-18T11:59:56.794814Z",
     "shell.execute_reply": "2025-04-18T11:59:56.793595Z",
     "shell.execute_reply.started": "2025-04-18T11:59:56.464579Z"
    },
    "scrolled": true
   },
   "outputs": [],
   "source": [
    "!cat ENCFF000MBM.fastq.gz_trimming_report.txt\n",
    "!cat ENCFF000MBV.fastq.gz_trimming_report.txt"
   ]
  },
  {
   "cell_type": "code",
   "execution_count": 4,
   "id": "e28b9676-6870-426a-a894-35be593e809e",
   "metadata": {
    "execution": {
     "iopub.execute_input": "2025-04-20T17:06:25.686652Z",
     "iopub.status.busy": "2025-04-20T17:06:25.686450Z",
     "iopub.status.idle": "2025-04-20T17:06:25.689895Z",
     "shell.execute_reply": "2025-04-20T17:06:25.689280Z",
     "shell.execute_reply.started": "2025-04-20T17:06:25.686632Z"
    }
   },
   "outputs": [],
   "source": [
    "import os\n",
    "os.environ[\"PATH\"] = \"/home/sagemaker-user/.conda/envs/rrbs-env/bin:\" + os.environ[\"PATH\"]\n"
   ]
  },
  {
   "cell_type": "code",
   "execution_count": null,
   "id": "f93322af-3cda-40f5-8990-3cc92f10ebb7",
   "metadata": {
    "execution": {
     "iopub.execute_input": "2025-04-18T12:03:02.812314Z",
     "iopub.status.busy": "2025-04-18T12:03:02.811595Z",
     "iopub.status.idle": "2025-04-18T12:04:06.147712Z",
     "shell.execute_reply": "2025-04-18T12:04:06.146720Z",
     "shell.execute_reply.started": "2025-04-18T12:03:02.812287Z"
    },
    "scrolled": true
   },
   "outputs": [],
   "source": [
    "!mkdir -p genome_hg19\n",
    "!cp hg19_main.fa genome_hg19/"
   ]
  },
  {
   "cell_type": "code",
   "execution_count": null,
   "id": "868dff97-569f-4346-a855-6c95e6b62404",
   "metadata": {
    "execution": {
     "iopub.execute_input": "2025-04-18T12:07:50.408957Z",
     "iopub.status.busy": "2025-04-18T12:07:50.408274Z",
     "iopub.status.idle": "2025-04-18T15:22:24.471555Z",
     "shell.execute_reply": "2025-04-18T15:22:24.470363Z",
     "shell.execute_reply.started": "2025-04-18T12:07:50.408925Z"
    },
    "scrolled": true
   },
   "outputs": [],
   "source": [
    "!/home/sagemaker-user/.conda/envs/rrbs-env/bin/bismark_genome_preparation --bowtie2 genome_hg19/\n"
   ]
  },
  {
   "cell_type": "code",
   "execution_count": null,
   "id": "e606b8c8-f534-4055-9789-4aa2d49b798f",
   "metadata": {
    "execution": {
     "iopub.execute_input": "2025-04-20T08:05:54.326054Z",
     "iopub.status.busy": "2025-04-20T08:05:54.325654Z"
    },
    "scrolled": true
   },
   "outputs": [],
   "source": [
    "# Sample 1: ENCFF000MBM\n",
    "!/home/sagemaker-user/.conda/envs/rrbs-env/bin/bismark \\\n",
    "  --genome genome_hg19/ \\\n",
    "  -p 32 \\\n",
    "  ENCFF000MBM_trimmed.fq.gz\n",
    "\n"
   ]
  },
  {
   "cell_type": "code",
   "execution_count": null,
   "id": "4271544b-5dc9-4b1d-af66-2714e3a28d89",
   "metadata": {
    "execution": {
     "iopub.execute_input": "2025-04-20T17:06:35.710857Z",
     "iopub.status.busy": "2025-04-20T17:06:35.710241Z",
     "iopub.status.idle": "2025-04-20T19:13:11.436816Z",
     "shell.execute_reply": "2025-04-20T19:13:11.436120Z",
     "shell.execute_reply.started": "2025-04-20T17:06:35.710835Z"
    },
    "scrolled": true
   },
   "outputs": [],
   "source": [
    "# Sample 2: ENCFF000MBV\n",
    "!/home/sagemaker-user/.conda/envs/rrbs-env/bin/bismark \\\n",
    "  --genome genome_hg19/ \\\n",
    "  -p 32 \\\n",
    "  ENCFF000MBV_trimmed.fq.gz\n",
    "!echo \"Finished\""
   ]
  },
  {
   "cell_type": "code",
   "execution_count": null,
   "id": "f4dbb362-b834-47ce-adbb-212471d1a710",
   "metadata": {
    "execution": {
     "iopub.execute_input": "2025-04-21T07:03:04.944980Z",
     "iopub.status.busy": "2025-04-21T07:03:04.944637Z",
     "iopub.status.idle": "2025-04-21T07:03:05.100216Z",
     "shell.execute_reply": "2025-04-21T07:03:05.099498Z",
     "shell.execute_reply.started": "2025-04-21T07:03:04.944957Z"
    }
   },
   "outputs": [],
   "source": [
    "!ls *.bam"
   ]
  },
  {
   "cell_type": "code",
   "execution_count": 11,
   "id": "04999c2c-ef16-4503-966f-8b659191ce83",
   "metadata": {
    "execution": {
     "iopub.execute_input": "2025-04-21T07:22:36.189100Z",
     "iopub.status.busy": "2025-04-21T07:22:36.188764Z",
     "iopub.status.idle": "2025-04-21T07:23:16.618793Z",
     "shell.execute_reply": "2025-04-21T07:23:16.618121Z",
     "shell.execute_reply.started": "2025-04-21T07:22:36.189075Z"
    }
   },
   "outputs": [],
   "source": [
    "!/home/sagemaker-user/.conda/envs/rrbs-env/bin/samtools merge -@ 34 merged.bam ENCFF000MBM_trimmed_bismark_bt2.bam ENCFF000MBV_trimmed_bismark_bt2.bam\n"
   ]
  },
  {
   "cell_type": "code",
   "execution_count": null,
   "id": "f799acbd-80c4-43fa-b400-f5b98e8e7104",
   "metadata": {
    "execution": {
     "iopub.execute_input": "2025-04-21T08:21:19.427590Z",
     "iopub.status.busy": "2025-04-21T08:21:19.426970Z",
     "iopub.status.idle": "2025-04-21T08:21:41.761800Z",
     "shell.execute_reply": "2025-04-21T08:21:41.761074Z",
     "shell.execute_reply.started": "2025-04-21T08:21:19.427554Z"
    }
   },
   "outputs": [],
   "source": [
    "!/home/sagemaker-user/.conda/envs/rrbs-env/bin/samtools sort -@ 34 -o merged.sorted.bam merged.bam"
   ]
  },
  {
   "cell_type": "code",
   "execution_count": 14,
   "id": "dc134fe4-fdb2-42d4-aca7-13ce116842f4",
   "metadata": {
    "execution": {
     "iopub.execute_input": "2025-04-21T08:22:53.272310Z",
     "iopub.status.busy": "2025-04-21T08:22:53.271954Z",
     "iopub.status.idle": "2025-04-21T08:23:03.483614Z",
     "shell.execute_reply": "2025-04-21T08:23:03.482818Z",
     "shell.execute_reply.started": "2025-04-21T08:22:53.272288Z"
    }
   },
   "outputs": [],
   "source": [
    "!/home/sagemaker-user/.conda/envs/rrbs-env/bin/samtools index merged.sorted.bam\n"
   ]
  },
  {
   "cell_type": "code",
   "execution_count": null,
   "id": "89a17f80-6d0f-4d81-afb8-312bbd556ac6",
   "metadata": {
    "execution": {
     "iopub.execute_input": "2025-04-24T14:24:29.525428Z",
     "iopub.status.busy": "2025-04-24T14:24:29.525081Z",
     "iopub.status.idle": "2025-04-24T14:34:40.711305Z",
     "shell.execute_reply": "2025-04-24T14:34:40.710223Z",
     "shell.execute_reply.started": "2025-04-24T14:24:29.525406Z"
    },
    "scrolled": true
   },
   "outputs": [],
   "source": [
    "!/home/sagemaker-user/.conda/envs/rrbs-env/bin/bismark_methylation_extractor --samtools_path /home/sagemaker-user/.conda/envs/rrbs-env/bin/samtools --bedGraph --gzip --multicore 34 --buffer_size 2G --genome_folder genome_hg19 merged.sorted.bam\n"
   ]
  },
  {
   "cell_type": "code",
   "execution_count": null,
   "id": "9e23cc0c-6ac8-4f65-ad57-1c27044133ba",
   "metadata": {
    "execution": {
     "iopub.execute_input": "2025-04-24T14:22:52.211448Z",
     "iopub.status.busy": "2025-04-24T14:22:52.211083Z",
     "iopub.status.idle": "2025-04-24T14:22:52.363088Z",
     "shell.execute_reply": "2025-04-24T14:22:52.362285Z",
     "shell.execute_reply.started": "2025-04-24T14:22:52.211425Z"
    }
   },
   "outputs": [],
   "source": [
    "!ls -lh *.gz"
   ]
  },
  {
   "cell_type": "code",
   "execution_count": 18,
   "id": "d1eb7829-0e2f-4c8d-a8df-fb47e9ce075c",
   "metadata": {
    "execution": {
     "iopub.execute_input": "2025-04-24T14:48:42.088443Z",
     "iopub.status.busy": "2025-04-24T14:48:42.088088Z",
     "iopub.status.idle": "2025-04-24T14:48:42.835930Z",
     "shell.execute_reply": "2025-04-24T14:48:42.835329Z",
     "shell.execute_reply.started": "2025-04-24T14:48:42.088424Z"
    }
   },
   "outputs": [],
   "source": [
    "!gunzip merged.sorted.bedGraph.gz\n"
   ]
  },
  {
   "cell_type": "code",
   "execution_count": 19,
   "id": "1937a97e-c1fd-4a51-8691-f82625c561f3",
   "metadata": {
    "execution": {
     "iopub.execute_input": "2025-04-24T14:49:14.683863Z",
     "iopub.status.busy": "2025-04-24T14:49:14.683533Z",
     "iopub.status.idle": "2025-04-24T14:49:15.563451Z",
     "shell.execute_reply": "2025-04-24T14:49:15.562683Z",
     "shell.execute_reply.started": "2025-04-24T14:49:14.683843Z"
    }
   },
   "outputs": [],
   "source": [
    "!sort -k1,1 -k2,2n merged.sorted.bedGraph > merged.sorted.sorted.bedGraph\n"
   ]
  },
  {
   "cell_type": "code",
   "execution_count": null,
   "id": "e234b820-c0a9-4b1a-8525-dc9dfcc1547c",
   "metadata": {
    "execution": {
     "iopub.execute_input": "2025-04-24T14:50:19.550149Z",
     "iopub.status.busy": "2025-04-24T14:50:19.549791Z",
     "iopub.status.idle": "2025-04-24T14:50:19.700218Z",
     "shell.execute_reply": "2025-04-24T14:50:19.699648Z",
     "shell.execute_reply.started": "2025-04-24T14:50:19.550126Z"
    }
   },
   "outputs": [],
   "source": [
    "!ls genome_hg19"
   ]
  },
  {
   "cell_type": "code",
   "execution_count": 24,
   "id": "fed857be-0458-4a5c-b0c6-ce2f537f9c59",
   "metadata": {
    "execution": {
     "iopub.execute_input": "2025-04-24T14:51:45.445378Z",
     "iopub.status.busy": "2025-04-24T14:51:45.445017Z",
     "iopub.status.idle": "2025-04-24T14:52:07.735284Z",
     "shell.execute_reply": "2025-04-24T14:52:07.734542Z",
     "shell.execute_reply.started": "2025-04-24T14:51:45.445343Z"
    }
   },
   "outputs": [],
   "source": [
    "!/home/sagemaker-user/.conda/envs/rrbs-env/bin/samtools faidx genome_hg19/hg19_main.fa"
   ]
  },
  {
   "cell_type": "code",
   "execution_count": null,
   "id": "3cd82b53-50b9-4e41-824b-30a4018e2147",
   "metadata": {
    "execution": {
     "iopub.execute_input": "2025-04-24T14:52:07.736492Z",
     "iopub.status.busy": "2025-04-24T14:52:07.736229Z",
     "iopub.status.idle": "2025-04-24T14:52:08.027052Z",
     "shell.execute_reply": "2025-04-24T14:52:08.026376Z",
     "shell.execute_reply.started": "2025-04-24T14:52:07.736472Z"
    }
   },
   "outputs": [],
   "source": [
    "!cut -f1,2 genome_hg19/hg19_main.fa.fai > genome_hg19/hg19.chrom.sizes\n"
   ]
  },
  {
   "cell_type": "code",
   "execution_count": null,
   "id": "f87e142e-1c85-471f-b125-d1b479ea54f8",
   "metadata": {
    "execution": {
     "iopub.execute_input": "2025-04-26T14:18:18.691130Z",
     "iopub.status.busy": "2025-04-26T14:18:18.690644Z",
     "iopub.status.idle": "2025-04-26T14:18:20.291551Z",
     "shell.execute_reply": "2025-04-26T14:18:20.290298Z",
     "shell.execute_reply.started": "2025-04-26T14:18:18.691099Z"
    }
   },
   "outputs": [],
   "source": [
    "!wget http://hgdownload.soe.ucsc.edu/admin/exe/linux.x86_64/bedGraphToBigWig\n",
    "!chmod +x bedGraphToBigWig\n",
    "!sudo mv bedGraphToBigWig /usr/local/bin/\n"
   ]
  },
  {
   "cell_type": "code",
   "execution_count": null,
   "id": "6fd22438-37aa-4a1b-bdce-786710b9bb04",
   "metadata": {
    "execution": {
     "iopub.execute_input": "2025-04-24T14:54:43.007236Z",
     "iopub.status.busy": "2025-04-24T14:54:43.006859Z",
     "iopub.status.idle": "2025-04-24T14:54:43.559209Z",
     "shell.execute_reply": "2025-04-24T14:54:43.558559Z",
     "shell.execute_reply.started": "2025-04-24T14:54:43.007214Z"
    }
   },
   "outputs": [],
   "source": [
    "\n",
    "# 4. Convert to BigWig\n",
    "!bedGraphToBigWig merged.sorted.sorted.bedGraph genome_hg19/hg19.chrom.sizes merged.sorted.bw"
   ]
  },
  {
   "cell_type": "code",
   "execution_count": null,
   "id": "9804d4c2-da19-449c-bb76-6b046fe5d58d",
   "metadata": {
    "execution": {
     "iopub.execute_input": "2025-04-26T13:40:43.188697Z",
     "iopub.status.busy": "2025-04-26T13:40:43.188413Z",
     "iopub.status.idle": "2025-04-26T13:40:43.342026Z",
     "shell.execute_reply": "2025-04-26T13:40:43.341434Z",
     "shell.execute_reply.started": "2025-04-26T13:40:43.188676Z"
    }
   },
   "outputs": [],
   "source": [
    "!head merged.sorted.sorted.bedGraph"
   ]
  },
  {
   "cell_type": "code",
   "execution_count": null,
   "id": "a77d79f2-f7ef-4111-829f-b347ce007e30",
   "metadata": {
    "execution": {
     "iopub.execute_input": "2025-04-26T13:43:48.051069Z",
     "iopub.status.busy": "2025-04-26T13:43:48.050766Z",
     "iopub.status.idle": "2025-04-26T13:43:48.950412Z",
     "shell.execute_reply": "2025-04-26T13:43:48.949728Z",
     "shell.execute_reply.started": "2025-04-26T13:43:48.051047Z"
    }
   },
   "outputs": [],
   "source": [
    "!awk 'NF<3' merged.sorted.sorted.bedGraph\n"
   ]
  },
  {
   "cell_type": "code",
   "execution_count": 3,
   "id": "a14cfe93-eadd-47dc-bd98-5af48e378a16",
   "metadata": {
    "execution": {
     "iopub.execute_input": "2025-04-26T13:44:34.834882Z",
     "iopub.status.busy": "2025-04-26T13:44:34.834603Z",
     "iopub.status.idle": "2025-04-26T13:44:35.507501Z",
     "shell.execute_reply": "2025-04-26T13:44:35.506750Z",
     "shell.execute_reply.started": "2025-04-26T13:44:34.834861Z"
    }
   },
   "outputs": [],
   "source": [
    "!awk 'NF>=3' merged.sorted.sorted.bedGraph > fixed.bedGraph\n"
   ]
  },
  {
   "cell_type": "code",
   "execution_count": null,
   "id": "1c77de88-3627-4c91-ba59-59453d945f1b",
   "metadata": {
    "execution": {
     "iopub.execute_input": "2025-04-26T14:18:12.579018Z",
     "iopub.status.busy": "2025-04-26T14:18:12.578592Z",
     "iopub.status.idle": "2025-04-26T14:18:12.749785Z",
     "shell.execute_reply": "2025-04-26T14:18:12.748712Z",
     "shell.execute_reply.started": "2025-04-26T14:18:12.578986Z"
    }
   },
   "outputs": [],
   "source": [
    "!bedGraphToBigWig fixed.bedGraph genome_hg19/hg19.chrom.sizes merged.sorted.bw\n"
   ]
  }
 ],
 "metadata": {
  "kernelspec": {
   "display_name": "Python 3 (ipykernel)",
   "language": "python",
   "name": "python3"
  },
  "language_info": {
   "codemirror_mode": {
    "name": "ipython",
    "version": 3
   },
   "file_extension": ".py",
   "mimetype": "text/x-python",
   "name": "python",
   "nbconvert_exporter": "python",
   "pygments_lexer": "ipython3",
   "version": "3.12.7"
  }
 },
 "nbformat": 4,
 "nbformat_minor": 5
}
