{
 "cells": [
  {
   "cell_type": "code",
   "execution_count": 2,
   "id": "2bd7e1c5-b79b-46de-bcb5-944357085282",
   "metadata": {
    "execution": {
     "iopub.execute_input": "2025-05-09T10:23:42.237473Z",
     "iopub.status.busy": "2025-05-09T10:23:42.236906Z",
     "iopub.status.idle": "2025-05-09T10:23:43.554681Z",
     "shell.execute_reply": "2025-05-09T10:23:43.554086Z",
     "shell.execute_reply.started": "2025-05-09T10:23:42.237453Z"
    }
   },
   "outputs": [
    {
     "name": "stdout",
     "output_type": "stream",
     "text": [
      "Requirement already satisfied: diagrams in /opt/conda/lib/python3.12/site-packages (0.24.4)\n",
      "Requirement already satisfied: graphviz<0.21.0,>=0.13.2 in /opt/conda/lib/python3.12/site-packages (from diagrams) (0.20.3)\n",
      "Requirement already satisfied: jinja2<4.0,>=2.10 in /opt/conda/lib/python3.12/site-packages (from diagrams) (3.1.4)\n",
      "Requirement already satisfied: pre-commit<5.0.0,>=4.0.1 in /opt/conda/lib/python3.12/site-packages (from diagrams) (4.2.0)\n",
      "Requirement already satisfied: MarkupSafe>=2.0 in /opt/conda/lib/python3.12/site-packages (from jinja2<4.0,>=2.10->diagrams) (3.0.2)\n",
      "Requirement already satisfied: cfgv>=2.0.0 in /opt/conda/lib/python3.12/site-packages (from pre-commit<5.0.0,>=4.0.1->diagrams) (3.4.0)\n",
      "Requirement already satisfied: identify>=1.0.0 in /opt/conda/lib/python3.12/site-packages (from pre-commit<5.0.0,>=4.0.1->diagrams) (2.6.10)\n",
      "Requirement already satisfied: nodeenv>=0.11.1 in /opt/conda/lib/python3.12/site-packages (from pre-commit<5.0.0,>=4.0.1->diagrams) (1.9.1)\n",
      "Requirement already satisfied: pyyaml>=5.1 in /opt/conda/lib/python3.12/site-packages (from pre-commit<5.0.0,>=4.0.1->diagrams) (6.0.2)\n",
      "Requirement already satisfied: virtualenv>=20.10.0 in /opt/conda/lib/python3.12/site-packages (from pre-commit<5.0.0,>=4.0.1->diagrams) (20.30.0)\n",
      "Requirement already satisfied: distlib<1,>=0.3.7 in /opt/conda/lib/python3.12/site-packages (from virtualenv>=20.10.0->pre-commit<5.0.0,>=4.0.1->diagrams) (0.3.9)\n",
      "Requirement already satisfied: filelock<4,>=3.12.2 in /opt/conda/lib/python3.12/site-packages (from virtualenv>=20.10.0->pre-commit<5.0.0,>=4.0.1->diagrams) (3.16.1)\n",
      "Requirement already satisfied: platformdirs<5,>=3.9.1 in /opt/conda/lib/python3.12/site-packages (from virtualenv>=20.10.0->pre-commit<5.0.0,>=4.0.1->diagrams) (3.11.0)\n"
     ]
    }
   ],
   "source": [
    "!pip install diagrams"
   ]
  },
  {
   "cell_type": "code",
   "execution_count": 7,
   "id": "5730457f-c851-4d86-8777-ff11710b37dd",
   "metadata": {
    "execution": {
     "iopub.execute_input": "2025-05-09T15:39:56.713804Z",
     "iopub.status.busy": "2025-05-09T15:39:56.713405Z",
     "iopub.status.idle": "2025-05-09T15:39:56.767059Z",
     "shell.execute_reply": "2025-05-09T15:39:56.766305Z",
     "shell.execute_reply.started": "2025-05-09T15:39:56.713778Z"
    }
   },
   "outputs": [
    {
     "name": "stdout",
     "output_type": "stream",
     "text": [
      "Diagram saved to transformer_classifier_tb.png\n"
     ]
    }
   ],
   "source": [
    "# transformer_classifier_diagram_tb.py\n",
    "\n",
    "from graphviz import Digraph\n",
    "\n",
    "def make_transformer_classifier_diagram_tb(\n",
    "    filename='transformer_classifier_tb', fmt='png'\n",
    "):\n",
    "    dot = Digraph('TransformerClassifier',\n",
    "                  filename=filename, format=fmt)\n",
    "    # Top-to-bottom layout:\n",
    "    dot.attr(rankdir='TB', splines='ortho',\n",
    "             nodesep='0.6', ranksep='0.8')\n",
    "    dot.node_attr.update(\n",
    "        shape='rectangle', style='filled',\n",
    "        fontname='Helvetica', fontsize='10'\n",
    "    )\n",
    "\n",
    "    # Input → Embedding → PosEnc → Pre‑Norm\n",
    "    dot.node('Input', '[N, 18, 23]', fillcolor='#F8C3C3')\n",
    "    dot.node('Emb',   'Linear(18 → 256)\\nEmbedding',\n",
    "             fillcolor='#F8C3C3')\n",
    "    dot.node('PE',    '⊕ Positional\\nEncoding',\n",
    "             shape='circle', fillcolor='white')\n",
    "    dot.node('PreLN','LayerNorm', fillcolor='#FEF9C7')\n",
    "\n",
    "    dot.edge('Input', 'Emb')\n",
    "    dot.edge('Emb',   'PE')\n",
    "    dot.edge('PE',    'PreLN')\n",
    "\n",
    "    # Encoder cluster\n",
    "    with dot.subgraph(name='cluster_enc') as enc:\n",
    "        enc.attr(label='Transformer Encoder (3×)', color='black')\n",
    "        enc.node_attr.update(fillcolor='#F0F0F0')\n",
    "        enc.node('MHA',       'Multi‑Head\\nAttention',    fillcolor='#FFD8B1')\n",
    "        enc.node('AddNorm1', 'Add & Norm',                fillcolor='#FEF9C7')\n",
    "        enc.node('FFN',       'Feed‑Forward\\n(256→512→256)', fillcolor='#B1E2FF')\n",
    "        enc.node('AddNorm2', 'Add & Norm',                fillcolor='#FEF9C7')\n",
    "\n",
    "        # internal wiring\n",
    "        enc.edge('MHA',       'AddNorm1')\n",
    "        enc.edge('AddNorm1',  'FFN')\n",
    "        enc.edge('FFN',       'AddNorm2')\n",
    "        # residual loop\n",
    "        enc.edge('AddNorm2',  'MHA', style='dashed')\n",
    "\n",
    "    # wire Pre‑Norm → MHA\n",
    "    dot.edge('PreLN', 'MHA')\n",
    "\n",
    "    # Pooling → FC → Sigmoid\n",
    "    dot.node('Pool',    'Global Mean\\nPooling',\n",
    "             shape='ellipse', fillcolor='#D3D3F9')\n",
    "    dot.edge('AddNorm2', 'Pool')\n",
    "\n",
    "    dot.node('FC',      'Linear(256 → 1)',\n",
    "             fillcolor='#C3E6C3')\n",
    "    dot.edge('Pool',    'FC')\n",
    "\n",
    "    dot.node('Sigmoid','Sigmoid',\n",
    "             shape='oval', fillcolor='#C3E6C3')\n",
    "    dot.edge('FC',      'Sigmoid')\n",
    "\n",
    "    # render\n",
    "    dot.render(cleanup=True)\n",
    "    print(f\"Diagram saved to {filename}.{fmt}\")\n",
    "\n",
    "if __name__ == '__main__':\n",
    "    make_transformer_classifier_diagram_tb()\n"
   ]
  },
  {
   "cell_type": "code",
   "execution_count": null,
   "id": "3da1ca80-7302-4a88-9ef9-e22732569da5",
   "metadata": {},
   "outputs": [],
   "source": []
  }
 ],
 "metadata": {
  "kernelspec": {
   "display_name": "Python 3 (ipykernel)",
   "language": "python",
   "name": "python3"
  },
  "language_info": {
   "codemirror_mode": {
    "name": "ipython",
    "version": 3
   },
   "file_extension": ".py",
   "mimetype": "text/x-python",
   "name": "python",
   "nbconvert_exporter": "python",
   "pygments_lexer": "ipython3",
   "version": "3.12.7"
  }
 },
 "nbformat": 4,
 "nbformat_minor": 5
}
